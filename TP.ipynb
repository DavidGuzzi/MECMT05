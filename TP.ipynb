{
 "cells": [
  {
   "cell_type": "markdown",
   "metadata": {},
   "source": [
    "### **UNIVERSIDAD TORCUATO DI TELLA - MAESTRÍA EN ECONOMETRÍA**  \n",
    "\n",
    "#### **TRABAJO PRÁCTICO DE ECONOMETRÍA** \n",
    "\n",
    "**Profesor**:  González-Rozada, Martín.   \n",
    "**Ayudante**: Lening, Iara.\n",
    "**Alumno**: Guzzi, David Alexander (Legajo n°: 24H1970).\n",
    "\n",
    "**Ciclo lectivo**: Tercer Trimestre 2024.\n",
    "\n"
   ]
  },
  {
   "cell_type": "code",
   "execution_count": null,
   "metadata": {},
   "outputs": [],
   "source": [
    "import pandas as pd "
   ]
  },
  {
   "cell_type": "code",
   "execution_count": null,
   "metadata": {},
   "outputs": [],
   "source": []
  },
  {
   "cell_type": "code",
   "execution_count": null,
   "metadata": {},
   "outputs": [],
   "source": []
  },
  {
   "cell_type": "markdown",
   "metadata": {},
   "source": []
  }
 ],
 "metadata": {
  "kernelspec": {
   "display_name": "Python 3",
   "language": "python",
   "name": "python3"
  },
  "language_info": {
   "name": "python",
   "version": "3.12.2"
  }
 },
 "nbformat": 4,
 "nbformat_minor": 2
}
