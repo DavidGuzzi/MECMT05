{
 "cells": [
  {
   "cell_type": "code",
   "execution_count": 1,
   "metadata": {},
   "outputs": [
    {
     "name": "stdout",
     "output_type": "stream",
     "text": [
      "                            OLS Regression Results                            \n",
      "==============================================================================\n",
      "Dep. Variable:                      y   R-squared:                       0.845\n",
      "Model:                            OLS   Adj. R-squared:                  0.793\n",
      "Method:                 Least Squares   F-statistic:                     16.35\n",
      "Date:                Sun, 08 Dec 2024   Prob (F-statistic):             0.0272\n",
      "Time:                        17:24:46   Log-Likelihood:                -21.674\n",
      "No. Observations:                   5   AIC:                             47.35\n",
      "Df Residuals:                       3   BIC:                             46.57\n",
      "Df Model:                           1                                         \n",
      "Covariance Type:            nonrobust                                         \n",
      "==============================================================================\n",
      "                 coef    std err          t      P>|t|      [0.025      0.975]\n",
      "------------------------------------------------------------------------------\n",
      "const      -4.441e-15     10.661  -4.17e-16      1.000     -33.930      33.930\n",
      "x1             6.5000      1.607      4.044      0.027       1.385      11.615\n",
      "==============================================================================\n",
      "Omnibus:                          nan   Durbin-Watson:                   1.898\n",
      "Prob(Omnibus):                    nan   Jarque-Bera (JB):                0.380\n",
      "Skew:                           0.152   Prob(JB):                        0.827\n",
      "Kurtosis:                       1.684   Cond. No.                         6.63\n",
      "==============================================================================\n",
      "\n",
      "Notes:\n",
      "[1] Standard Errors assume that the covariance matrix of the errors is correctly specified.\n"
     ]
    },
    {
     "name": "stderr",
     "output_type": "stream",
     "text": [
      "c:\\Users\\HP\\AppData\\Local\\Programs\\Python\\Python312\\Lib\\site-packages\\statsmodels\\stats\\stattools.py:74: ValueWarning: omni_normtest is not valid with less than 8 observations; 5 samples were given.\n",
      "  warn(\"omni_normtest is not valid with less than 8 observations; %i \"\n"
     ]
    }
   ],
   "source": [
    "import numpy as np\n",
    "import statsmodels.api as sm\n",
    "\n",
    "# Datos de entrada\n",
    "x = np.array([3, 7, -4, 5, -11])\n",
    "y = np.array([20, 30, -50, 60, -60])\n",
    "\n",
    "# Agregar constante (para incluir la ordenada al origen)\n",
    "X = sm.add_constant(x)  # Esto agrega una columna de unos para el término constante\n",
    "\n",
    "# Ajustar el modelo de regresión\n",
    "model = sm.OLS(y, X).fit()\n",
    "\n",
    "# Mostrar los resultados\n",
    "print(model.summary())"
   ]
  },
  {
   "cell_type": "code",
   "execution_count": 21,
   "metadata": {},
   "outputs": [
    {
     "data": {
      "text/plain": [
       "{'beta_hat': 6.5, 'var_beta_hat': 0.45454545454545453}"
      ]
     },
     "execution_count": 21,
     "metadata": {},
     "output_type": "execute_result"
    }
   ],
   "source": [
    "import numpy as np\n",
    "\n",
    "# Datos\n",
    "x = np.array([3, 7, -4, 5, -11])\n",
    "y = np.array([20, 30, -50, 60, -60])\n",
    "\n",
    "# Varianza del error\n",
    "sigma_squared = 100\n",
    "\n",
    "# Calcular x^T x\n",
    "xtx = np.sum(x**2)\n",
    "\n",
    "# Calcular beta sombrero\n",
    "beta_hat = np.sum(x * y) / xtx\n",
    "\n",
    "# Calcular la varianza de beta sombrero\n",
    "var_beta_hat = sigma_squared / xtx\n",
    "\n",
    "# Resultados\n",
    "{\n",
    "    \"beta_hat\": beta_hat,\n",
    "    \"var_beta_hat\": var_beta_hat\n",
    "}\n"
   ]
  },
  {
   "cell_type": "code",
   "execution_count": 24,
   "metadata": {},
   "outputs": [
    {
     "data": {
      "text/plain": [
       "426.25"
      ]
     },
     "execution_count": 24,
     "metadata": {},
     "output_type": "execute_result"
    }
   ],
   "source": [
    "y_hat = beta_hat * x \n",
    "e_hat = y - y_hat\n",
    "n = len(x)\n",
    "k = 1\n",
    "sigma_hat = np.sum(e_hat**2) / (n-k)\n",
    "sigma_hat"
   ]
  },
  {
   "cell_type": "code",
   "execution_count": 26,
   "metadata": {},
   "outputs": [
    {
     "data": {
      "text/plain": [
       "array([ 19.5,  45.5, -26. ,  32.5, -71.5])"
      ]
     },
     "execution_count": 26,
     "metadata": {},
     "output_type": "execute_result"
    }
   ],
   "source": [
    "y_hat"
   ]
  },
  {
   "cell_type": "code",
   "execution_count": 25,
   "metadata": {},
   "outputs": [
    {
     "data": {
      "text/plain": [
       "1.9375"
      ]
     },
     "execution_count": 25,
     "metadata": {},
     "output_type": "execute_result"
    }
   ],
   "source": [
    "sigma_hat / xtx"
   ]
  },
  {
   "cell_type": "code",
   "execution_count": 20,
   "metadata": {},
   "outputs": [
    {
     "data": {
      "text/plain": [
       "1430"
      ]
     },
     "execution_count": 20,
     "metadata": {},
     "output_type": "execute_result"
    }
   ],
   "source": [
    "np.sum(x * y)"
   ]
  },
  {
   "cell_type": "code",
   "execution_count": 16,
   "metadata": {},
   "outputs": [
    {
     "data": {
      "text/plain": [
       "{'pi_hat (coeficiente x sobre z)': 2.0,\n",
       " 'x_hat': array([  2.,   4.,  -4.,   8., -10.]),\n",
       " 'beta_hat_2sls': 7.2,\n",
       " 'var_beta_hat_2sls': 0.5}"
      ]
     },
     "execution_count": 16,
     "metadata": {},
     "output_type": "execute_result"
    }
   ],
   "source": [
    "import numpy as np\n",
    "\n",
    "# Datos\n",
    "x = np.array([3, 7, -4, 5, -11])\n",
    "y = np.array([20, 30, -50, 60, -60])\n",
    "z = np.array([1, 2, -2, 4, -5])\n",
    "\n",
    "# Varianza del error\n",
    "sigma_squared = 100\n",
    "\n",
    "# Paso 1: Regresión de x sobre z\n",
    "ztz = np.sum(z**2)  # z^T z\n",
    "ztx = np.sum(z * x)  # z^T x\n",
    "pi_hat = ztx / ztz   # Coeficiente estimado\n",
    "\n",
    "# Calcular x sombrero\n",
    "x_hat = pi_hat * z\n",
    "\n",
    "# Paso 2: Regresión de y sobre x sombrero\n",
    "x_hat_t_x_hat = np.sum(x_hat**2)  # (x sombrero)^T x sombrero\n",
    "x_hat_t_y = np.sum(x_hat * y)     # (x sombrero)^T y\n",
    "beta_hat_2sls = x_hat_t_y / x_hat_t_x_hat\n",
    "\n",
    "# Calcular la varianza de beta sombrero\n",
    "var_beta_hat_2sls = sigma_squared / x_hat_t_x_hat\n",
    "\n",
    "# Resultados\n",
    "{\n",
    "    \"pi_hat (coeficiente x sobre z)\": pi_hat,\n",
    "    \"x_hat\": x_hat,\n",
    "    \"beta_hat_2sls\": beta_hat_2sls,\n",
    "    \"var_beta_hat_2sls\": var_beta_hat_2sls\n",
    "}\n"
   ]
  },
  {
   "cell_type": "code",
   "execution_count": 17,
   "metadata": {},
   "outputs": [
    {
     "data": {
      "text/plain": [
       "-3.283291031876401"
      ]
     },
     "execution_count": 17,
     "metadata": {},
     "output_type": "execute_result"
    }
   ],
   "source": [
    "var_beta_hat = 0.45454545454545453\n",
    "var_beta_hat_2sls = 0.5\n",
    "\n",
    "(6.5 - 7.2) / np.sqrt(var_beta_hat_2sls - var_beta_hat)"
   ]
  },
  {
   "cell_type": "code",
   "execution_count": 37,
   "metadata": {},
   "outputs": [
    {
     "data": {
      "text/plain": [
       "{'beta_ols': array([6.5]),\n",
       " 'beta_2sls': array([7.2]),\n",
       " 'hausman_stat': array([0.02227273]),\n",
       " 'p_value': array([0.11863614])}"
      ]
     },
     "execution_count": 37,
     "metadata": {},
     "output_type": "execute_result"
    }
   ],
   "source": [
    "import numpy as np\n",
    "import statsmodels.api as sm\n",
    "from scipy.stats import chi2\n",
    "\n",
    "# Datos\n",
    "x = np.array([3, 7, -4, 5, -11])\n",
    "y = np.array([20, 30, -50, 60, -60])\n",
    "z = np.array([1, 2, -2, 4, -5])\n",
    "\n",
    "# Paso 1: Estimación por OLS sin constante\n",
    "model_ols = sm.OLS(y, x).fit()  # OLS sin constante\n",
    "beta_ols = model_ols.params\n",
    "var_beta_ols = 0.45454545\n",
    "\n",
    "# Paso 2: Estimación por 2SLS sin constante\n",
    "# Etapa 1: Regresión de x sobre z (sin constante)\n",
    "model_stage1 = sm.OLS(x, z).fit()\n",
    "x_hat = model_stage1.predict(z)\n",
    "\n",
    "# Etapa 2: Regresión de y sobre x sombrero (sin constante)\n",
    "model_2sls = sm.OLS(y, x_hat).fit()\n",
    "beta_2sls = model_2sls.params\n",
    "var_beta_2sls = 0.5\n",
    "\n",
    "# Paso 3: Estadístico de Hausman\n",
    "beta_diff = beta_ols - beta_2sls  # Diferencia entre los estimadores\n",
    "var_diff =  var_beta_2sls - var_beta_ols  # Diferencia entre varianzas\n",
    "hausman_stat = beta_diff.T * var_diff * beta_diff  # Estadístico\n",
    "\n",
    "# Usar scipy.stats.chi2.sf para calcular el p-valor\n",
    "p_value = 1 - chi2.sf(hausman_stat, df=1)  # p-valor, 1 parámetro\n",
    "\n",
    "# Resultados\n",
    "{\n",
    "    \"beta_ols\": beta_ols,\n",
    "    \"beta_2sls\": beta_2sls,\n",
    "    \"hausman_stat\": hausman_stat,\n",
    "    \"p_value\": p_value\n",
    "}\n",
    "\n"
   ]
  },
  {
   "cell_type": "code",
   "execution_count": 47,
   "metadata": {},
   "outputs": [
    {
     "name": "stdout",
     "output_type": "stream",
     "text": [
      "Punto crítico al 5% (chi-cuadrado, df=2): 5.991464547107979\n"
     ]
    }
   ],
   "source": [
    "from scipy.stats import chi2\n",
    "\n",
    "# Grados de libertad\n",
    "df = 2  # Cambia según el número de parámetros que estás probando\n",
    "\n",
    "# Punto crítico al 5% en la cola derecha\n",
    "chi2_critical = chi2.ppf(0.95, df)\n",
    "\n",
    "print(f\"Punto crítico al 5% (chi-cuadrado, df={df}): {chi2_critical}\")\n"
   ]
  },
  {
   "cell_type": "code",
   "execution_count": 14,
   "metadata": {},
   "outputs": [
    {
     "name": "stderr",
     "output_type": "stream",
     "text": [
      "C:\\Users\\HP\\AppData\\Local\\Temp\\ipykernel_13664\\2666195302.py:35: RuntimeWarning: invalid value encountered in sqrt\n",
      "  hausman_stat = beta_diff / np.sqrt(var_diff)\n"
     ]
    },
    {
     "data": {
      "text/plain": [
       "{'beta_ols': 6.5, 'beta_2sls': 7.2, 'hausman_stat': nan, 'p_value': nan}"
      ]
     },
     "execution_count": 14,
     "metadata": {},
     "output_type": "execute_result"
    }
   ],
   "source": [
    "import numpy as np\n",
    "import statsmodels.api as sm\n",
    "from scipy.stats import norm\n",
    "\n",
    "# Datos\n",
    "x = np.array([3, 7, -4, 5, -11])\n",
    "y = np.array([20, 30, -50, 60, -60])\n",
    "z = np.array([1, 2, -2, 4, -5])\n",
    "\n",
    "# Estimación por OLS sin constante (sin agregar constante)\n",
    "model_ols = sm.OLS(y, x).fit()  # OLS sin constante\n",
    "beta_ols = model_ols.params[0]  # Coeficiente estimado por OLS\n",
    "var_beta_ols = model_ols.cov_params()[0, 0]  # Varianza del estimador OLS\n",
    "\n",
    "# Estimación por 2SLS sin constante\n",
    "# Etapa 1: Regresión de x sobre z (sin constante)\n",
    "model_stage1 = sm.OLS(x, z).fit()\n",
    "x_hat = model_stage1.predict(z)\n",
    "\n",
    "# Etapa 2: Regresión de y sobre x sombrero (sin constante)\n",
    "model_2sls = sm.OLS(y, x_hat).fit()\n",
    "beta_2sls = model_2sls.params[0]  # Coeficiente estimado por 2SLS\n",
    "var_beta_2sls = model_2sls.cov_params()[0, 0]  # Varianza del estimador 2SLS\n",
    "\n",
    "# Estimación por MCC\n",
    "# Para ilustrar, tomamos los mismos resultados de OLS como MCC (esto es solo un ejemplo)\n",
    "beta_mcc = beta_ols\n",
    "var_beta_mcc = var_beta_ols\n",
    "\n",
    "# Calcular el estadístico de Hausman\n",
    "beta_diff = beta_ols - beta_2sls  # Diferencia entre los estimadores\n",
    "var_diff = var_beta_2sls - var_beta_mcc  # Diferencia entre las varianzas (2SLS - MCC)\n",
    "\n",
    "# Estadístico de Hausman\n",
    "hausman_stat = beta_diff / np.sqrt(var_diff)\n",
    "\n",
    "# Calcular el p-valor usando la distribución normal estándar (asumiendo que sigue N(0,1))\n",
    "p_value = 1 - norm.cdf(hausman_stat)  # p-valor\n",
    "\n",
    "# Resultados\n",
    "{\n",
    "    \"beta_ols\": beta_ols,\n",
    "    \"beta_2sls\": beta_2sls,\n",
    "    \"hausman_stat\": hausman_stat,\n",
    "    \"p_value\": p_value\n",
    "}"
   ]
  }
 ],
 "metadata": {
  "kernelspec": {
   "display_name": "Python 3",
   "language": "python",
   "name": "python3"
  },
  "language_info": {
   "codemirror_mode": {
    "name": "ipython",
    "version": 3
   },
   "file_extension": ".py",
   "mimetype": "text/x-python",
   "name": "python",
   "nbconvert_exporter": "python",
   "pygments_lexer": "ipython3",
   "version": "3.12.2"
  }
 },
 "nbformat": 4,
 "nbformat_minor": 2
}
