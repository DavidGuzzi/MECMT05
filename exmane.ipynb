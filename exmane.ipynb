{
 "cells": [
  {
   "cell_type": "code",
   "execution_count": 1,
   "metadata": {},
   "outputs": [
    {
     "name": "stdout",
     "output_type": "stream",
     "text": [
      "                            OLS Regression Results                            \n",
      "==============================================================================\n",
      "Dep. Variable:                      y   R-squared:                       0.845\n",
      "Model:                            OLS   Adj. R-squared:                  0.793\n",
      "Method:                 Least Squares   F-statistic:                     16.35\n",
      "Date:                Sun, 08 Dec 2024   Prob (F-statistic):             0.0272\n",
      "Time:                        17:24:46   Log-Likelihood:                -21.674\n",
      "No. Observations:                   5   AIC:                             47.35\n",
      "Df Residuals:                       3   BIC:                             46.57\n",
      "Df Model:                           1                                         \n",
      "Covariance Type:            nonrobust                                         \n",
      "==============================================================================\n",
      "                 coef    std err          t      P>|t|      [0.025      0.975]\n",
      "------------------------------------------------------------------------------\n",
      "const      -4.441e-15     10.661  -4.17e-16      1.000     -33.930      33.930\n",
      "x1             6.5000      1.607      4.044      0.027       1.385      11.615\n",
      "==============================================================================\n",
      "Omnibus:                          nan   Durbin-Watson:                   1.898\n",
      "Prob(Omnibus):                    nan   Jarque-Bera (JB):                0.380\n",
      "Skew:                           0.152   Prob(JB):                        0.827\n",
      "Kurtosis:                       1.684   Cond. No.                         6.63\n",
      "==============================================================================\n",
      "\n",
      "Notes:\n",
      "[1] Standard Errors assume that the covariance matrix of the errors is correctly specified.\n"
     ]
    },
    {
     "name": "stderr",
     "output_type": "stream",
     "text": [
      "c:\\Users\\HP\\AppData\\Local\\Programs\\Python\\Python312\\Lib\\site-packages\\statsmodels\\stats\\stattools.py:74: ValueWarning: omni_normtest is not valid with less than 8 observations; 5 samples were given.\n",
      "  warn(\"omni_normtest is not valid with less than 8 observations; %i \"\n"
     ]
    }
   ],
   "source": [
    "import numpy as np\n",
    "import statsmodels.api as sm\n",
    "\n",
    "# Datos de entrada\n",
    "x = np.array([3, 7, -4, 5, -11])\n",
    "y = np.array([20, 30, -50, 60, -60])\n",
    "\n",
    "# Agregar constante (para incluir la ordenada al origen)\n",
    "X = sm.add_constant(x)  # Esto agrega una columna de unos para el término constante\n",
    "\n",
    "# Ajustar el modelo de regresión\n",
    "model = sm.OLS(y, X).fit()\n",
    "\n",
    "# Mostrar los resultados\n",
    "print(model.summary())"
   ]
  }
 ],
 "metadata": {
  "kernelspec": {
   "display_name": "Python 3",
   "language": "python",
   "name": "python3"
  },
  "language_info": {
   "codemirror_mode": {
    "name": "ipython",
    "version": 3
   },
   "file_extension": ".py",
   "mimetype": "text/x-python",
   "name": "python",
   "nbconvert_exporter": "python",
   "pygments_lexer": "ipython3",
   "version": "3.12.2"
  }
 },
 "nbformat": 4,
 "nbformat_minor": 2
}
